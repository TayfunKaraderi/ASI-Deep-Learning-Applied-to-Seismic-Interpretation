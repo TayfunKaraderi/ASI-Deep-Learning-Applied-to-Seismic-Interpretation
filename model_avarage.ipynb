{
  "nbformat": 4,
  "nbformat_minor": 0,
  "metadata": {
    "colab": {
      "name": "model_avarage.ipynb",
      "version": "0.3.2",
      "provenance": [],
      "collapsed_sections": [
        "JclCmzIlKCAs"
      ],
      "toc_visible": true
    },
    "kernelspec": {
      "name": "python3",
      "display_name": "Python 3"
    }
  },
  "cells": [
    {
      "cell_type": "markdown",
      "metadata": {
        "id": "JclCmzIlKCAs",
        "colab_type": "text"
      },
      "source": [
        "### Initialisation\n",
        "\n",
        "Here we set the google drive access, import the required libraries and load the dataset."
      ]
    },
    {
      "cell_type": "code",
      "metadata": {
        "id": "AAncwZlV6VAU",
        "colab_type": "code",
        "outputId": "db754f07-7d9a-430b-e189-363c1a8aca2c",
        "colab": {
          "base_uri": "https://localhost:8080/",
          "height": 34
        }
      },
      "source": [
        "import numpy as np\n",
        "from scipy import stats\n",
        "import pandas as pd\n",
        "import tensorflow as tf\n",
        "\n",
        "from random import randint\n",
        "from numpy import argmax\n",
        "import matplotlib\n",
        "\n",
        "import matplotlib.pyplot as plt\n",
        "plt.style.use('seaborn-white')\n",
        "import seaborn as sns\n",
        "sns.set_style(\"white\")\n",
        "\n",
        "from sklearn.model_selection import train_test_split\n",
        "\n",
        "from skimage.transform import resize\n",
        "from scipy import stats\n",
        "\n",
        "from keras import optimizers\n",
        "from keras.preprocessing.image import load_img\n",
        "from keras import Model\n",
        "from keras.callbacks import EarlyStopping, ModelCheckpoint, ReduceLROnPlateau\n",
        "from keras.models import load_model\n",
        "from keras.optimizers import Adam\n",
        "from keras.utils.vis_utils import plot_model\n",
        "from keras.preprocessing.image import ImageDataGenerator\n",
        "from keras.layers import Input, Conv2D, Conv2DTranspose, MaxPooling2D, concatenate, Dropout, ZeroPadding2D, BatchNormalization, Cropping2D\n",
        "from keras.utils.np_utils import to_categorical\n",
        "from torchvision.transforms import Compose, ToTensor, Normalize, RandomRotation, ToPILImage\n",
        "\n",
        "from tqdm import tqdm\n",
        "from tqdm import tqdm_notebook\n",
        "\n",
        "import time"
      ],
      "execution_count": 2,
      "outputs": [
        {
          "output_type": "stream",
          "text": [
            "Using TensorFlow backend.\n"
          ],
          "name": "stderr"
        }
      ]
    },
    {
      "cell_type": "code",
      "metadata": {
        "id": "OdbGmc_tC2Y6",
        "colab_type": "code",
        "colab": {
          "base_uri": "https://localhost:8080/",
          "height": 74
        },
        "outputId": "1e6b522c-3b95-47b0-a6ef-b223d9bba3e2"
      },
      "source": [
        "# This is to access google drive to load data\n",
        "from google.colab import drive\n",
        "drive.mount('/content/gdrive/')"
      ],
      "execution_count": 3,
      "outputs": [
        {
          "output_type": "stream",
          "text": [
            "Drive already mounted at /content/gdrive/; to attempt to forcibly remount, call drive.mount(\"/content/gdrive/\", force_remount=True).\n"
          ],
          "name": "stdout"
        }
      ]
    },
    {
      "cell_type": "code",
      "metadata": {
        "id": "We36WuYQnv0Z",
        "colab_type": "code",
        "outputId": "4d5619ce-0175-43a7-b8d4-05e4c37f3d1a",
        "colab": {
          "base_uri": "https://localhost:8080/",
          "height": 224
        }
      },
      "source": [
        "# crf library from https://github.com/lucasb-eyer/pydensecrf\n",
        "!pip install '/content/gdrive/My Drive/pydensecrf'"
      ],
      "execution_count": 4,
      "outputs": [
        {
          "output_type": "stream",
          "text": [
            "Processing ./gdrive/My Drive/pydensecrf\n",
            "Building wheels for collected packages: pydensecrf\n",
            "  Building wheel for pydensecrf (setup.py) ... \u001b[?25l\u001b[?25hdone\n",
            "  Created wheel for pydensecrf: filename=pydensecrf-1.0rc2-cp36-cp36m-linux_x86_64.whl size=2235079 sha256=0cfb142ca42a85f70fcfaad487cc68bec6e9537758579b37919fbdd6e7798088\n",
            "  Stored in directory: /tmp/pip-ephem-wheel-cache-8pfklraz/wheels/80/c5/63/916bb868352090a8237bc17772193c17f16ee3d29acb7f4396\n",
            "Successfully built pydensecrf\n",
            "Installing collected packages: pydensecrf\n",
            "  Found existing installation: pydensecrf 1.0rc2\n",
            "    Uninstalling pydensecrf-1.0rc2:\n",
            "      Successfully uninstalled pydensecrf-1.0rc2\n",
            "Successfully installed pydensecrf-1.0rc2\n"
          ],
          "name": "stdout"
        }
      ]
    },
    {
      "cell_type": "code",
      "metadata": {
        "id": "eIevA8MC3to-",
        "colab_type": "code",
        "colab": {}
      },
      "source": [
        "import pydensecrf.densecrf as dcrf\n",
        "from skimage.io import imread, imsave\n",
        "from pydensecrf.utils import unary_from_labels, create_pairwise_bilateral\n",
        "%matplotlib inline"
      ],
      "execution_count": 0,
      "outputs": []
    },
    {
      "cell_type": "code",
      "metadata": {
        "id": "rjRzUJYgyFsB",
        "colab_type": "code",
        "colab": {}
      },
      "source": [
        "def crf(mask_img, sxy, compat):\n",
        "    \"\"\"\n",
        "    Function which returns the labelled image after applying CRF:\n",
        "    \n",
        "    mask_img = Which has been labelled by some technique..\n",
        "    sxy = theta\n",
        "    compat = w\n",
        "    \"\"\"\n",
        "    \n",
        "    \n",
        "    annotated_label = mask_img[:,:] \n",
        "    colors, labels = np.unique(annotated_label, return_inverse=True)\n",
        "\n",
        "    n_labels = 5\n",
        "    \n",
        "    # Setting up the CRF model\n",
        "    d = dcrf.DenseCRF2D(mask_img.shape[1], mask_img.shape[0], n_labels)\n",
        "\n",
        "    # Get unary-potentials\n",
        "    U = unary_from_labels(labels, n_labels, gt_prob=0.7, zero_unsure=False)\n",
        "    d.setUnaryEnergy(U)\n",
        "\n",
        "    # Add Pairwise Potentials \n",
        "    d.addPairwiseGaussian(sxy=sxy, compat=compat, kernel=dcrf.DIAG_KERNEL,\n",
        "                      normalization=dcrf.NORMALIZE_SYMMETRIC)\n",
        "\n",
        "    #Run Inference for 20 steps \n",
        "    Q = d.inference(20)\n",
        "\n",
        "    # Find out the most probable class for each pixel.\n",
        "    MAP = np.argmax(Q, axis=0)\n",
        "\n",
        "    return MAP.reshape((mask_img.shape[0],mask_img.shape[1]))"
      ],
      "execution_count": 0,
      "outputs": []
    },
    {
      "cell_type": "code",
      "metadata": {
        "id": "2ksWaiaePAnG",
        "colab_type": "code",
        "colab": {}
      },
      "source": [
        "def test_accuracy_score(prediction, actual_labels):\n",
        "  \"plots accuracy of each label and the overall accuracy\"\n",
        "  if (prediction.shape[0:3] != actual_labels.shape[0:3]): print(\"shape of inputs do not match\"); return 0;\n",
        "  \n",
        "  # Pixelwise accuracy score\n",
        "  Num0=0; Num1=0; Num2=0; Num3=0; Num4=0;\n",
        "  error0=0; error1=0; error2=0; error3=0; error4=0;\n",
        "  for i in range(prediction.shape[0]):\n",
        "    for j in range(prediction.shape[1]):\n",
        "      for k in range(prediction.shape[2]):\n",
        "        if actual_labels[i,j,k] == 0:\n",
        "          Num0 += 1\n",
        "          if (actual_labels[i,j,k] != prediction[i,j,k]): error0 += 1;\n",
        "        \n",
        "        if actual_labels[i,j,k,0] == 1:\n",
        "          Num1 += 1\n",
        "          if (actual_labels[i,j,k,0] != prediction[i,j,k]): error1 += 1;\n",
        "        \n",
        "        if actual_labels[i,j,k,0] == 2: \n",
        "          Num2 += 1\n",
        "          if (actual_labels[i,j,k,0] != prediction[i,j,k]): error2 += 1;\n",
        "         \n",
        "        if actual_labels[i,j,k,0] == 3:\n",
        "          Num3 += 1\n",
        "          if (actual_labels[i,j,k,0] != prediction[i,j,k]): error3 += 1;\n",
        "        \n",
        "        if actual_labels[i,j,k,0] == 4:\n",
        "          Num4 += 1\n",
        "          if (actual_labels[i,j,k,0] != prediction[i,j,k]): error4 += 1;\n",
        "  \n",
        "  total_error = error0 + error1 + error2 + error3 + error4\n",
        "  percentage_error = total_error/(prediction.shape[0]*prediction.shape[1]*prediction.shape[2])\n",
        "  Overall_accuracy = 1 - percentage_error\n",
        "  label0_accuracy  = 1 - error0/Num0\n",
        "  label1_accuracy  = 1 - error1/Num1\n",
        "  label2_accuracy  = 1 - error2/Num2\n",
        "  label3_accuracy  = 1 - error3/Num3\n",
        "  label4_accuracy  = 1 - error4/Num4\n",
        "  \n",
        "  # All the plots\n",
        "  fig = plt.figure(figsize=(16, 2))\n",
        "  #plt.subplot(321)\n",
        "  plt.ylim(0.75, 1)\n",
        "  plt.bar([\"overall\", \"label0\", \"label1\", \"label2\", \"label3\", \"label4\"], [Overall_accuracy, label0_accuracy, label1_accuracy, label2_accuracy, label3_accuracy, label4_accuracy], align='center')\n",
        "  plt.ylabel(\"Accuracy\")\n",
        "  fig = plt.figure(figsize=(10, 60))\n",
        "  fig.tight_layout()\n",
        "  \n",
        "  print (\"overall accuracy is \", Overall_accuracy)\n",
        "  print (\"label0 accuracy is \" , label0_accuracy)\n",
        "  print (\"label1 accuracy is \" , label1_accuracy)\n",
        "  print (\"label2 accuracy is \" , label2_accuracy)\n",
        "  print (\"label3 accuracy is \" , label3_accuracy)\n",
        "  print (\"label4 accuracy is \" , label4_accuracy)\n",
        "  \n",
        "  return [Overall_accuracy, label0_accuracy, label1_accuracy, label2_accuracy, label3_accuracy, label4_accuracy]\n",
        "\n",
        "\n",
        "#iou error\n",
        "def iou_accuracy(prediction, actual_labels):\n",
        "  with tf.Session() as sess:\n",
        "      ypredT = tf.constant(prediction)\n",
        "      ytrueT = tf.constant(actual_labels)\n",
        "      iou,conf_mat = tf.metrics.mean_iou(ytrueT, ypredT, num_classes=5)\n",
        "      sess.run(tf.local_variables_initializer())\n",
        "      sess.run([conf_mat])\n",
        "      miou = sess.run([iou])\n",
        "      print(miou)"
      ],
      "execution_count": 0,
      "outputs": []
    },
    {
      "cell_type": "code",
      "metadata": {
        "id": "pcR0iVwzy3pp",
        "colab_type": "code",
        "colab": {}
      },
      "source": [
        "# load seismic amplitudes and corresponding labels (100 inlines)\n",
        "#!cp \"/content/gdrive/My Drive/Forties/data/malenov/CNN_data/De_noised_Seismic_cube_Forties___9_1561024414129.sgy\" \"De_noised_Seismic_cube_Forties___9_1561024414129.sgy\"\n",
        "#!cp \"/content/gdrive/My Drive/Forties/data/malenov/CNN_data/Por_Labels_1562324680441.sgy\" \"Por_Labels_1562324680441.sgy\"\n",
        "# 400 inlines\n",
        "!cp \"/content/gdrive/My Drive/Forties/data/malenov/CNN_data/De_noised_Seismic___9_1562332244893.sgy\" \"De_noised_Seismic_cube_Forties___9_1561024414129.sgy\"\n",
        "!cp \"/content/gdrive/My Drive/Forties/data/malenov/CNN_data/Por_Labels_1562331649850.sgy\" \"Por_Labels_1562324680441.sgy\""
      ],
      "execution_count": 0,
      "outputs": []
    },
    {
      "cell_type": "code",
      "metadata": {
        "id": "x2cxD3cRzvaD",
        "colab_type": "code",
        "outputId": "c94686da-65a5-41a3-c11f-97e72abc919e",
        "colab": {
          "base_uri": "https://localhost:8080/",
          "height": 51
        }
      },
      "source": [
        "!pip install segyio"
      ],
      "execution_count": 9,
      "outputs": [
        {
          "output_type": "stream",
          "text": [
            "Requirement already satisfied: segyio in /usr/local/lib/python3.6/dist-packages (1.8.6)\n",
            "Requirement already satisfied: numpy>=1.10 in /usr/local/lib/python3.6/dist-packages (from segyio) (1.16.4)\n"
          ],
          "name": "stdout"
        }
      ]
    },
    {
      "cell_type": "code",
      "metadata": {
        "id": "IMIz-Sv_vhl3",
        "colab_type": "code",
        "colab": {}
      },
      "source": [
        "# Load the dataset\n",
        "import scipy.misc\n",
        "import os\n",
        "#os.chdir(\"../\")\n",
        "import segyio\n",
        "import numpy as np\n",
        "from shutil import copyfile\n",
        "\n",
        "# Amplitudes\n",
        "sgycube = 'De_noised_Seismic_cube_Forties___9_1561024414129.sgy'\n",
        "# Labels\n",
        "sgylabels = 'Por_Labels_1562324680441.sgy'\n",
        "\n",
        "amplitude_inlines = []\n",
        "with segyio.open(sgycube, \"r\") as segyfile:\n",
        "\n",
        "    # Memory map file for faster reading (especially if file is big...)\n",
        "    segyfile.mmap()\n",
        "    \n",
        "    for inline in segyfile.ilines:\n",
        "        amplitude_inlines.append(segyfile.iline[inline])\n",
        "\n",
        "amplitude_inlines = np.array(amplitude_inlines)\n",
        "\n",
        "# original cube amplitudes\n",
        "# --- \n",
        "original_cube_amplitudes = np.copy(amplitude_inlines)\n",
        "# ---\n",
        "\n",
        "label_inlines = []\n",
        "with segyio.open(sgylabels, \"r\") as segyfile:\n",
        "\n",
        "    # Memory map file for faster reading (especially if file is big...)\n",
        "    segyfile.mmap()\n",
        "    \n",
        "    for inline in segyfile.ilines:\n",
        "        label_inlines.append(segyfile.iline[inline])\n",
        "\n",
        "label_inlines = np.array(label_inlines)\n",
        "\n",
        "# original cube labels\n",
        "# --- \n",
        "original_cube_labels = np.copy(label_inlines)\n",
        "# --- \n",
        "\n",
        "# -----> Remove below for binary classification (this is an ad-hoc labelling for our dataset only)\n",
        "# There were some NAN labels in the original labels (at the very bottom and top of the images)\n",
        "# label NaNs in labels as either 1 or 5\n",
        "# ---\n",
        "for i in range(original_cube_labels.shape[0]):\n",
        "    for k in range(original_cube_labels.shape[2]):\n",
        "         \n",
        "        if (k>230):\n",
        "            original_cube_labels[i,:,k] = 5\n",
        "        if (k<50):\n",
        "            original_cube_labels[i,:,k] = 1\n",
        "# ---\n",
        "original_cube_labels_4D = original_cube_labels.reshape(401, 401, 251, 1)\n"
      ],
      "execution_count": 0,
      "outputs": []
    },
    {
      "cell_type": "markdown",
      "metadata": {
        "id": "CmyqSI65pZID",
        "colab_type": "text"
      },
      "source": [
        "## Combining Best Models (2 FCN and SWC) + CRF"
      ]
    },
    {
      "cell_type": "code",
      "metadata": {
        "id": "O_tMGnUFpUqA",
        "colab_type": "code",
        "colab": {}
      },
      "source": [
        "# FCN 0.987 accuracy\n",
        "predicted_cube1 = np.load('/content/gdrive/My Drive/FCN Approach/combined_prediction1.npy')\n",
        "# FCN 0.9856 accuracy\n",
        "predicted_cube2 = np.load('/content/gdrive/My Drive/FCN Approach/combined_prediction2.npy')\n",
        "# SWC 0.9894 accuracy\n",
        "predicted_cube3 = np.load('/content/gdrive/My Drive/FCN Approach/combined_prediction3.npy')\n"
      ],
      "execution_count": 0,
      "outputs": []
    },
    {
      "cell_type": "code",
      "metadata": {
        "id": "WyyLzX-FrI7g",
        "colab_type": "code",
        "colab": {}
      },
      "source": [
        "# model avarage the predictions above\n",
        "all_predictions = np.array([predicted_cube1[:,:,:], predicted_cube2[:,:,:], predicted_cube3[:,:,:]])\n",
        "combined_prediction = stats.mode(all_predictions)\n",
        "combined_prediction = combined_prediction[0][0]"
      ],
      "execution_count": 0,
      "outputs": []
    },
    {
      "cell_type": "code",
      "metadata": {
        "id": "O_zNiqSUOqH_",
        "colab_type": "code",
        "colab": {}
      },
      "source": [
        "# This is to spare some memory so that the session do not crash\n",
        "del predicted_cube1\n",
        "del predicted_cube2\n",
        "del predicted_cube3"
      ],
      "execution_count": 0,
      "outputs": []
    },
    {
      "cell_type": "code",
      "metadata": {
        "id": "zKyala9Ir9V7",
        "colab_type": "code",
        "outputId": "26a5a1dd-72bb-485b-c6cd-1123fd0ae773",
        "colab": {
          "base_uri": "https://localhost:8080/",
          "height": 296
        }
      },
      "source": [
        "test_accuracy = test_accuracy_score(combined_prediction, original_cube_labels_4D-1)"
      ],
      "execution_count": 22,
      "outputs": [
        {
          "output_type": "stream",
          "text": [
            "overall accuracy is  0.9895522790028436\n",
            "label0 accuracy is  0.9985925865214078\n",
            "label1 accuracy is  0.9296991809338351\n",
            "label2 accuracy is  0.9713791789326013\n",
            "label3 accuracy is  0.9514959056858777\n",
            "label4 accuracy is  0.9964133013225788\n"
          ],
          "name": "stdout"
        },
        {
          "output_type": "display_data",
          "data": {
            "image/png": "[encoded data removed]",
            "text/plain": [
              "<Figure size 1152x144 with 1 Axes>"
            ]
          },
          "metadata": {
            "tags": []
          }
        },
        {
          "output_type": "display_data",
          "data": {
            "text/plain": [
              "<Figure size 720x4320 with 0 Axes>"
            ]
          },
          "metadata": {
            "tags": []
          }
        }
      ]
    },
    {
      "cell_type": "code",
      "metadata": {
        "id": "_o6WjqALuSuY",
        "colab_type": "code",
        "colab": {}
      },
      "source": [
        "# Apply crf to entire cube in 2 axis\n",
        "CRF_Cube = np.zeros(combined_prediction.shape)\n",
        "\n",
        "for i in range(combined_prediction.shape[0]):\n",
        "  crf_smoothed_inline = crf(combined_prediction[i,:,:], (2,2), 6)\n",
        "  CRF_Cube[i,:,:] = crf_smoothed_inline\n",
        "\n",
        "for i in range(combined_prediction.shape[1]):\n",
        "  crf_smoothed_inline = crf(CRF_Cube[:,i,:], (2,2), 6)\n",
        "  CRF_Cube[:,i,:] = crf_smoothed_inline"
      ],
      "execution_count": 0,
      "outputs": []
    },
    {
      "cell_type": "code",
      "metadata": {
        "id": "28nmOH_c3E3g",
        "colab_type": "code",
        "colab": {}
      },
      "source": [
        "# Save\n",
        "# np.save('/content/gdrive/My Drive/FCN Approach/combined_3predictions_after_CRF.npy', combined_prediction)"
      ],
      "execution_count": 0,
      "outputs": []
    },
    {
      "cell_type": "code",
      "metadata": {
        "id": "LpdeuwrrubEM",
        "colab_type": "code",
        "outputId": "9acb110d-cc8f-4e60-aee5-34eb36ec2296",
        "colab": {
          "base_uri": "https://localhost:8080/",
          "height": 296
        }
      },
      "source": [
        "test_accuracy2 = test_accuracy_score(CRF_Cube, original_cube_labels_4D-1)"
      ],
      "execution_count": 15,
      "outputs": [
        {
          "output_type": "stream",
          "text": [
            "overall accuracy is  0.9895783685117615\n",
            "label0 accuracy is  0.99859392714734\n",
            "label1 accuracy is  0.9292528792319313\n",
            "label2 accuracy is  0.9714147190255483\n",
            "label3 accuracy is  0.9518363505338124\n",
            "label4 accuracy is  0.9964310727634386\n"
          ],
          "name": "stdout"
        },
        {
          "output_type": "display_data",
          "data": {
            "image/png": "[encoded data removed]",
            "text/plain": [
              "<Figure size 1152x144 with 1 Axes>"
            ]
          },
          "metadata": {
            "tags": []
          }
        },
        {
          "output_type": "display_data",
          "data": {
            "text/plain": [
              "<Figure size 720x4320 with 0 Axes>"
            ]
          },
          "metadata": {
            "tags": []
          }
        }
      ]
    }
  ]
}